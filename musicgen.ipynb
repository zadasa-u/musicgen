{
  "cells": [
    {
      "cell_type": "markdown",
      "metadata": {
        "id": "kVlfUOVENrY5"
      },
      "source": [
        "# Generador de musica\n",
        "Este codigo genera musica sencilla empleando tonos senoidales concatenados. Cada tono tiene una frecuencia dada por el diccionario de notas. Luego, para hacer un tema musical basta con generar una lista que contenga en su interior informacion de la nota, su duración y además si existe un tiempo de silencio entre notas... para simular el instrumento."
      ]
    },
    {
      "cell_type": "code",
      "execution_count": null,
      "metadata": {
        "id": "-sj50jbQ3hI6"
      },
      "outputs": [],
      "source": [
        "import numpy as np\n",
        "from matplotlib import pyplot as plt\n",
        "from scipy.io import wavfile"
      ]
    },
    {
      "cell_type": "markdown",
      "source": [
        "Las frecuencias (en Hz) fueron tomadas de manera experimental observando un espectrograma mientras se tocaban notas de una flauta dulce"
      ],
      "metadata": {
        "id": "uPQ-SFWdhekZ"
      }
    },
    {
      "cell_type": "code",
      "execution_count": null,
      "metadata": {
        "id": "FS_wuCLN31Fs"
      },
      "outputs": [],
      "source": [
        "notas = {\n",
        "    \"do\":520,\n",
        "    \"re\":586,\n",
        "    \"mi\":650,\n",
        "    \"fa\":691,\n",
        "    \"sol\":773,\n",
        "    \"la\":867,\n",
        "    \"si\":973\n",
        "}"
      ]
    },
    {
      "cell_type": "markdown",
      "metadata": {
        "id": "eOl_0B_kO0AK"
      },
      "source": [
        "Esto puede mejorarse incluyendo los armonicos de cada nota!!! (y adaptando un poco el código por supuesto)\n",
        "\n",
        "A continuación se observan como bastones las frecuencias correspondientes a cada nota"
      ]
    },
    {
      "cell_type": "code",
      "execution_count": null,
      "metadata": {
        "id": "R_aSpuvyKAmJ",
        "colab": {
          "base_uri": "https://localhost:8080/",
          "height": 466
        },
        "outputId": "bb4112ba-2a91-4a6f-c124-381b6fd23204"
      },
      "outputs": [
        {
          "output_type": "execute_result",
          "data": {
            "text/plain": [
              "Text(0, 0.5, 'Frecuencia [Hz]')"
            ]
          },
          "metadata": {},
          "execution_count": 21
        },
        {
          "output_type": "display_data",
          "data": {
            "text/plain": [
              "<Figure size 640x480 with 1 Axes>"
            ],
            "image/png": "[encoded data removed]"
          },
          "metadata": {}
        }
      ],
      "source": [
        "plt.stem(notas.keys(),notas.values())\n",
        "plt.xlabel('Notas')\n",
        "plt.ylabel('Frecuencia [Hz]')"
      ]
    },
    {
      "cell_type": "markdown",
      "source": [
        "La frecuencia de muestreo empleada es común para música. Los otros parámetros: dt y dcn son de un valor arbitrario."
      ],
      "metadata": {
        "id": "HQqywUYugq2L"
      }
    },
    {
      "cell_type": "code",
      "execution_count": null,
      "metadata": {
        "id": "1Wk827fm41gg"
      },
      "outputs": [],
      "source": [
        "fs = 44100  # rate | frecuencia de muestreo\n",
        "dt = 0.4    # duracion de un tiempo en segundos\n",
        "dcn = 0.05   # duracion de cambio de nota:\n",
        "            # el espacio entre notas,\n",
        "            # para que la transicion de una nota a otra no sea instantanea"
      ]
    },
    {
      "cell_type": "markdown",
      "source": [
        "El siguiente tema simple está compuesto por las notas, su duración, y la duración del silencio entre notas. Estos se representa en cada lista de tres elementos en cada renglón"
      ],
      "metadata": {
        "id": "4iHg2ztkj8Dn"
      }
    },
    {
      "cell_type": "code",
      "execution_count": null,
      "metadata": {
        "id": "7LriqAYF5F7x"
      },
      "outputs": [],
      "source": [
        "tema_simple = [\n",
        "    [\"do\",1,1],\n",
        "    [\"re\",0.5,1],\n",
        "    [\"do\",0.5,1],\n",
        "    [\"do\",1,1],\n",
        "    [\"re\",0.5,1],\n",
        "    [\"mi\",0.5,1],\n",
        "    [\"sol\",1,1],\n",
        "    [\"mi\",2,0],\n",
        "    [\"mi\",0,5], # equivale a un tiempo de silencio (no importa la nota)\n",
        "    [\"do\",0.5,1],\n",
        "    [\"re\",0.5,1],\n",
        "    [\"do\",0.5,1],\n",
        "    [\"re\",0.5,1],\n",
        "    [\"mi\",1,1],\n",
        "    [\"mi\",1,1],\n",
        "    [\"re\",2,1],\n",
        "    [\"do\",2,0]\n",
        "]"
      ]
    },
    {
      "cell_type": "markdown",
      "metadata": {
        "id": "yP0TW-bJEAJ1"
      },
      "source": [
        "Por cada nota en el tema musical, debe generarse un tono senoidal."
      ]
    },
    {
      "cell_type": "code",
      "execution_count": null,
      "metadata": {
        "id": "oELphMBS9faZ"
      },
      "outputs": [],
      "source": [
        "ondas = []\n",
        "dospi = 2*np.pi\n",
        "for n in tema_simple:\n",
        "  d = n[1]*dt\n",
        "  N = int(d*fs)\n",
        "  t = np.linspace(0,d,N)\n",
        "  tono = np.sin(dospi*notas[n[0]]*t)\n",
        "  intervalo = np.zeros(int(n[2]*dcn*fs))\n",
        "  onda = np.concatenate((tono,intervalo))\n",
        "  ondas.append(onda)"
      ]
    },
    {
      "cell_type": "markdown",
      "source": [
        "Concatenamos las ondas y lo guardamos como archivo de audio"
      ],
      "metadata": {
        "id": "D-By4HtPgg14"
      }
    },
    {
      "cell_type": "code",
      "execution_count": null,
      "metadata": {
        "id": "rQzYw7ukHsfk"
      },
      "outputs": [],
      "source": [
        "suma = np.concatenate(ondas)"
      ]
    },
    {
      "cell_type": "code",
      "execution_count": null,
      "metadata": {
        "id": "AwUNAqdg7l79"
      },
      "outputs": [],
      "source": [
        "filen=\"simple3.wav\"\n",
        "wavfile.write(filen,fs,suma)"
      ]
    }
  ],
  "metadata": {
    "colab": {
      "provenance": []
    },
    "kernelspec": {
      "display_name": "Python 3",
      "name": "python3"
    },
    "language_info": {
      "name": "python"
    }
  },
  "nbformat": 4,
  "nbformat_minor": 0
}